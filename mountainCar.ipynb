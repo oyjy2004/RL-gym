{
 "cells": [
  {
   "cell_type": "code",
   "execution_count": 1,
   "id": "initial_id",
   "metadata": {
    "ExecuteTime": {
     "end_time": "2024-06-08T11:41:45.418961800Z",
     "start_time": "2024-06-08T11:41:44.450180100Z"
    },
    "collapsed": true
   },
   "outputs": [
    {
     "name": "stderr",
     "output_type": "stream",
     "text": [
      "D:\\anacondadata\\envs\\RL\\lib\\site-packages\\gym\\core.py:26: UserWarning: \u001b[33mWARN: Gym minimally supports python 3.6 as the python foundation not longer supports the version, please update your version to 3.7+\u001b[0m\n",
      "  \"Gym minimally supports python 3.6 as the python foundation not longer supports the version, please update your version to 3.7+\"\n"
     ]
    }
   ],
   "source": [
    "import gym\n",
    "import torch\n",
    "import torch.nn as nn\n",
    "import torch.optim as optim\n",
    "import numpy as np\n",
    "from collections import deque\n",
    "import random\n",
    "import pygame\n",
    "from pygame.locals import VIDEORESIZE"
   ]
  },
  {
   "cell_type": "code",
   "execution_count": 2,
   "id": "74aa60b68aa94111",
   "metadata": {
    "ExecuteTime": {
     "end_time": "2024-06-08T11:41:45.435248200Z",
     "start_time": "2024-06-08T11:41:45.421958Z"
    }
   },
   "outputs": [],
   "source": [
    "# 定义深度Q网络\n",
    "class DQN(nn.Module):\n",
    "    def __init__(self, state_dim, action_dim):\n",
    "        super(DQN, self).__init__()\n",
    "        self.fc1 = nn.Linear(state_dim, 128)\n",
    "        self.fc2 = nn.Linear(128, 128)\n",
    "        self.fc3 = nn.Linear(128, action_dim)\n",
    "\n",
    "    def forward(self, x):\n",
    "        x = torch.relu(self.fc1(x))\n",
    "        x = torch.relu(self.fc2(x))\n",
    "        x = self.fc3(x)\n",
    "        return x"
   ]
  },
  {
   "cell_type": "code",
   "execution_count": 3,
   "id": "dd8599f6f5a3566e",
   "metadata": {
    "ExecuteTime": {
     "end_time": "2024-06-08T11:41:45.455201600Z",
     "start_time": "2024-06-08T11:41:45.440084Z"
    }
   },
   "outputs": [],
   "source": [
    "# 经验回放缓冲区\n",
    "class ReplayBuffer:\n",
    "    def __init__(self, capacity):\n",
    "        self.buffer = deque(maxlen=capacity)\n",
    "    \n",
    "    def push(self, state, action, reward, next_state, done):\n",
    "        self.buffer.append((state, action, reward, next_state, done))\n",
    "    \n",
    "    def sample(self, batch_size):\n",
    "        state, action, reward, next_state, done = zip(*random.sample(self.buffer, batch_size))\n",
    "        return np.array(state), action, reward, np.array(next_state), done\n",
    "    \n",
    "    def __len__(self):\n",
    "        return len(self.buffer)"
   ]
  },
  {
   "cell_type": "code",
   "execution_count": 4,
   "id": "ceaf060426aed283",
   "metadata": {
    "ExecuteTime": {
     "end_time": "2024-06-08T11:41:45.465240300Z",
     "start_time": "2024-06-08T11:41:45.451945500Z"
    }
   },
   "outputs": [],
   "source": [
    "# 超参数\n",
    "gamma = 0.99\n",
    "batch_size = 64\n",
    "lr = 1e-3\n",
    "num_episodes = 1500\n",
    "capacity = 10000"
   ]
  },
  {
   "cell_type": "code",
   "execution_count": 5,
   "id": "64cc8b29325bf422",
   "metadata": {
    "ExecuteTime": {
     "end_time": "2024-06-08T11:41:45.508818400Z",
     "start_time": "2024-06-08T11:41:45.466235200Z"
    }
   },
   "outputs": [
    {
     "name": "stderr",
     "output_type": "stream",
     "text": [
      "D:\\anacondadata\\envs\\RL\\lib\\site-packages\\gym\\core.py:318: DeprecationWarning: \u001b[33mWARN: Initializing wrapper in old step API which returns one bool instead of two. It is recommended to set `new_step_api=True` to use new step API. This will be the default behaviour in future.\u001b[0m\n",
      "  \"Initializing wrapper in old step API which returns one bool instead of two. It is recommended to set `new_step_api=True` to use new step API. This will be the default behaviour in future.\"\n",
      "D:\\anacondadata\\envs\\RL\\lib\\site-packages\\gym\\wrappers\\step_api_compatibility.py:40: DeprecationWarning: \u001b[33mWARN: Initializing environment in old step API which returns one bool instead of two. It is recommended to set `new_step_api=True` to use new step API. This will be the default behaviour in future.\u001b[0m\n",
      "  \"Initializing environment in old step API which returns one bool instead of two. It is recommended to set `new_step_api=True` to use new step API. This will be the default behaviour in future.\"\n"
     ]
    }
   ],
   "source": [
    "# 环境和网络初始化\n",
    "env = gym.make('MountainCar-v0')\n",
    "state_dim = env.observation_space.shape[0]\n",
    "action_dim = env.action_space.n\n",
    "dqn = DQN(state_dim, action_dim)\n",
    "target_dqn = DQN(state_dim, action_dim)\n",
    "target_dqn.load_state_dict(dqn.state_dict())\n",
    "optimizer = optim.Adam(dqn.parameters(), lr=lr)\n",
    "replay_buffer = ReplayBuffer(capacity)"
   ]
  },
  {
   "cell_type": "code",
   "execution_count": 6,
   "id": "48c87b2719c5522f",
   "metadata": {
    "ExecuteTime": {
     "end_time": "2024-06-08T11:41:45.519324300Z",
     "start_time": "2024-06-08T11:41:45.484307200Z"
    }
   },
   "outputs": [],
   "source": [
    "# 训练过程\n",
    "def train():\n",
    "    if len(replay_buffer) < batch_size:\n",
    "        return\n",
    "    \n",
    "    state, action, reward, next_state, done = replay_buffer.sample(batch_size)\n",
    "    \n",
    "    state = torch.FloatTensor(state)\n",
    "    next_state = torch.FloatTensor(next_state)\n",
    "    action = torch.LongTensor(action)\n",
    "    reward = torch.FloatTensor(reward)\n",
    "    done = torch.FloatTensor(done)\n",
    "    \n",
    "    q_values = dqn(state)\n",
    "    next_q_values = dqn(next_state)\n",
    "    next_q_state_values = target_dqn(next_state)\n",
    "    \n",
    "    q_value = q_values.gather(1, action.unsqueeze(1)).squeeze(1)\n",
    "    next_q_value = next_q_state_values.gather(1, next_q_values.max(1)[1].unsqueeze(1)).squeeze(1)\n",
    "    expected_q_value = reward + gamma * next_q_value * (1 - done)\n",
    "    \n",
    "    loss = (q_value - expected_q_value.detach()).pow(2).mean()\n",
    "    \n",
    "    optimizer.zero_grad()\n",
    "    loss.backward()\n",
    "    optimizer.step()"
   ]
  },
  {
   "cell_type": "code",
   "execution_count": 7,
   "id": "7e4724f64304af47",
   "metadata": {
    "ExecuteTime": {
     "end_time": "2024-06-08T11:41:45.520324600Z",
     "start_time": "2024-06-08T11:41:45.497243100Z"
    }
   },
   "outputs": [],
   "source": [
    "epsilon_start = 1.0\n",
    "epsilon_end = 0.01\n",
    "epsilon_decay = 500"
   ]
  },
  {
   "cell_type": "code",
   "execution_count": 8,
   "id": "651fec4c1ff13dc2",
   "metadata": {
    "ExecuteTime": {
     "end_time": "2024-06-08T11:41:45.529424100Z",
     "start_time": "2024-06-08T11:41:45.513310Z"
    }
   },
   "outputs": [],
   "source": [
    "def epsilon_by_frame(frame_idx):\n",
    "    return epsilon_end + (epsilon_start - epsilon_end) * np.exp(-1. * frame_idx / epsilon_decay)"
   ]
  },
  {
   "cell_type": "code",
   "execution_count": 9,
   "id": "8d97723b6669973d",
   "metadata": {
    "ExecuteTime": {
     "end_time": "2024-06-08T11:41:45.618292100Z",
     "start_time": "2024-06-08T11:41:45.530433Z"
    }
   },
   "outputs": [],
   "source": [
    "# Pygame初始化\n",
    "pygame.init()\n",
    "screen = pygame.display.set_mode((600, 400))\n",
    "pygame.display.set_caption(\"Mountain Car\")"
   ]
  },
  {
   "cell_type": "code",
   "execution_count": 10,
   "id": "1341b902920eab70",
   "metadata": {
    "ExecuteTime": {
     "end_time": "2024-06-08T11:41:45.626815200Z",
     "start_time": "2024-06-08T11:41:45.620291600Z"
    }
   },
   "outputs": [],
   "source": [
    "def render(env, screen):\n",
    "    screen.fill((255, 255, 255))\n",
    "    img = env.render(mode='rgb_array')\n",
    "    img = pygame.surfarray.make_surface(np.transpose(img, axes=(1, 0, 2)))\n",
    "    screen.blit(img, (0, 0))\n",
    "    pygame.display.flip()"
   ]
  },
  {
   "cell_type": "code",
   "execution_count": 11,
   "id": "57d568462726a4f0",
   "metadata": {
    "ExecuteTime": {
     "end_time": "2024-06-08T12:02:44.460894300Z",
     "start_time": "2024-06-08T11:41:45.629821400Z"
    }
   },
   "outputs": [
    {
     "name": "stderr",
     "output_type": "stream",
     "text": [
      "D:\\anacondadata\\envs\\RL\\lib\\site-packages\\gym\\core.py:44: DeprecationWarning: \u001b[33mWARN: The argument mode in render method is deprecated; use render_mode during environment initialization instead.\n",
      "See here for more information: https://www.gymlibrary.ml/content/api/\u001b[0m\n",
      "  \"The argument mode in render method is deprecated; \"\n"
     ]
    },
    {
     "name": "stdout",
     "output_type": "stream",
     "text": [
      "Episode: 0, Reward: -200.0\n",
      "Episode: 10, Reward: -200.0\n",
      "Episode: 20, Reward: -200.0\n",
      "Episode: 30, Reward: -200.0\n",
      "Episode: 40, Reward: -200.0\n",
      "Episode: 50, Reward: -200.0\n",
      "Episode: 60, Reward: -200.0\n",
      "Episode: 70, Reward: -200.0\n",
      "Episode: 80, Reward: -200.0\n",
      "Episode: 90, Reward: -200.0\n",
      "Episode: 100, Reward: -200.0\n",
      "Episode: 110, Reward: -200.0\n",
      "Episode: 120, Reward: -200.0\n",
      "Episode: 130, Reward: -200.0\n",
      "Episode: 140, Reward: -200.0\n",
      "Episode: 150, Reward: -163.0\n",
      "Episode: 160, Reward: -96.0\n",
      "Episode: 170, Reward: -113.0\n",
      "Episode: 180, Reward: -153.0\n",
      "Episode: 190, Reward: -200.0\n",
      "Episode: 200, Reward: -114.0\n",
      "Episode: 210, Reward: -152.0\n",
      "Episode: 220, Reward: -152.0\n",
      "Episode: 230, Reward: -86.0\n",
      "Episode: 240, Reward: -116.0\n",
      "Episode: 250, Reward: -112.0\n",
      "Episode: 260, Reward: -128.0\n",
      "Episode: 270, Reward: -116.0\n",
      "Episode: 280, Reward: -107.0\n",
      "Episode: 290, Reward: -111.0\n",
      "Episode: 300, Reward: -86.0\n",
      "Episode: 310, Reward: -112.0\n",
      "Episode: 320, Reward: -114.0\n",
      "Episode: 330, Reward: -104.0\n",
      "Episode: 340, Reward: -107.0\n",
      "Episode: 350, Reward: -110.0\n",
      "Episode: 360, Reward: -158.0\n",
      "Episode: 370, Reward: -158.0\n",
      "Episode: 380, Reward: -84.0\n",
      "Episode: 390, Reward: -161.0\n",
      "Episode: 400, Reward: -104.0\n",
      "Episode: 410, Reward: -110.0\n",
      "Episode: 420, Reward: -104.0\n",
      "Episode: 430, Reward: -104.0\n",
      "Episode: 440, Reward: -105.0\n",
      "Episode: 450, Reward: -103.0\n",
      "Episode: 460, Reward: -107.0\n",
      "Episode: 470, Reward: -107.0\n",
      "Episode: 480, Reward: -87.0\n",
      "Episode: 490, Reward: -200.0\n",
      "Episode: 500, Reward: -151.0\n",
      "Episode: 510, Reward: -106.0\n",
      "Episode: 520, Reward: -92.0\n",
      "Episode: 530, Reward: -107.0\n",
      "Episode: 540, Reward: -111.0\n",
      "Episode: 550, Reward: -108.0\n",
      "Episode: 560, Reward: -105.0\n",
      "Episode: 570, Reward: -103.0\n",
      "Episode: 580, Reward: -96.0\n",
      "Episode: 590, Reward: -105.0\n",
      "Episode: 600, Reward: -109.0\n",
      "Episode: 610, Reward: -105.0\n",
      "Episode: 620, Reward: -85.0\n",
      "Episode: 630, Reward: -104.0\n",
      "Episode: 640, Reward: -106.0\n",
      "Episode: 650, Reward: -155.0\n",
      "Episode: 660, Reward: -96.0\n",
      "Episode: 670, Reward: -107.0\n",
      "Episode: 680, Reward: -166.0\n",
      "Episode: 690, Reward: -91.0\n",
      "Episode: 700, Reward: -104.0\n",
      "Episode: 710, Reward: -107.0\n",
      "Episode: 720, Reward: -94.0\n",
      "Episode: 730, Reward: -89.0\n",
      "Episode: 740, Reward: -108.0\n",
      "Episode: 750, Reward: -87.0\n",
      "Episode: 760, Reward: -106.0\n",
      "Episode: 770, Reward: -112.0\n",
      "Episode: 780, Reward: -108.0\n",
      "Episode: 790, Reward: -92.0\n",
      "Episode: 800, Reward: -106.0\n",
      "Episode: 810, Reward: -107.0\n",
      "Episode: 820, Reward: -111.0\n",
      "Episode: 830, Reward: -115.0\n",
      "Episode: 840, Reward: -84.0\n",
      "Episode: 850, Reward: -115.0\n",
      "Episode: 860, Reward: -161.0\n",
      "Episode: 870, Reward: -164.0\n",
      "Episode: 880, Reward: -114.0\n",
      "Episode: 890, Reward: -197.0\n",
      "Episode: 900, Reward: -104.0\n",
      "Episode: 910, Reward: -106.0\n",
      "Episode: 920, Reward: -103.0\n",
      "Episode: 930, Reward: -96.0\n",
      "Episode: 940, Reward: -109.0\n",
      "Episode: 950, Reward: -117.0\n",
      "Episode: 960, Reward: -90.0\n",
      "Episode: 970, Reward: -96.0\n",
      "Episode: 980, Reward: -96.0\n",
      "Episode: 990, Reward: -162.0\n",
      "Episode: 1000, Reward: -172.0\n",
      "Episode: 1010, Reward: -200.0\n",
      "Episode: 1020, Reward: -109.0\n",
      "Episode: 1030, Reward: -108.0\n",
      "Episode: 1040, Reward: -107.0\n",
      "Episode: 1050, Reward: -107.0\n",
      "Episode: 1060, Reward: -104.0\n",
      "Episode: 1070, Reward: -96.0\n",
      "Episode: 1080, Reward: -106.0\n",
      "Episode: 1090, Reward: -103.0\n",
      "Episode: 1100, Reward: -109.0\n",
      "Episode: 1110, Reward: -106.0\n",
      "Episode: 1120, Reward: -118.0\n",
      "Episode: 1130, Reward: -103.0\n",
      "Episode: 1140, Reward: -84.0\n",
      "Episode: 1150, Reward: -106.0\n",
      "Episode: 1160, Reward: -105.0\n",
      "Episode: 1170, Reward: -107.0\n",
      "Episode: 1180, Reward: -103.0\n",
      "Episode: 1190, Reward: -88.0\n",
      "Episode: 1200, Reward: -83.0\n",
      "Episode: 1210, Reward: -86.0\n",
      "Episode: 1220, Reward: -107.0\n",
      "Episode: 1230, Reward: -83.0\n",
      "Episode: 1240, Reward: -90.0\n",
      "Episode: 1250, Reward: -170.0\n",
      "Episode: 1260, Reward: -123.0\n",
      "Episode: 1270, Reward: -106.0\n",
      "Episode: 1280, Reward: -86.0\n",
      "Episode: 1290, Reward: -113.0\n",
      "Episode: 1300, Reward: -86.0\n",
      "Episode: 1310, Reward: -120.0\n",
      "Episode: 1320, Reward: -84.0\n",
      "Episode: 1330, Reward: -86.0\n",
      "Episode: 1340, Reward: -103.0\n",
      "Episode: 1350, Reward: -176.0\n",
      "Episode: 1360, Reward: -107.0\n",
      "Episode: 1370, Reward: -106.0\n",
      "Episode: 1380, Reward: -87.0\n",
      "Episode: 1390, Reward: -153.0\n",
      "Episode: 1400, Reward: -145.0\n",
      "Episode: 1410, Reward: -87.0\n",
      "Episode: 1420, Reward: -123.0\n",
      "Episode: 1430, Reward: -103.0\n",
      "Episode: 1440, Reward: -90.0\n",
      "Episode: 1450, Reward: -166.0\n",
      "Episode: 1460, Reward: -108.0\n",
      "Episode: 1470, Reward: -174.0\n",
      "Episode: 1480, Reward: -106.0\n",
      "Episode: 1490, Reward: -98.0\n"
     ]
    }
   ],
   "source": [
    "# 训练主循环\n",
    "all_rewards = []\n",
    "episode_reward = 0\n",
    "frame_idx = 0\n",
    "\n",
    "for episode in range(num_episodes):\n",
    "    state = env.reset()\n",
    "    episode_reward = 0\n",
    "    \n",
    "    while True:\n",
    "        frame_idx += 1\n",
    "        epsilon = epsilon_by_frame(frame_idx)\n",
    "        \n",
    "        if random.random() > epsilon:\n",
    "            state_tensor = torch.FloatTensor(state).unsqueeze(0)\n",
    "            q_value = dqn(state_tensor)\n",
    "            action = q_value.max(1)[1].item()\n",
    "        else:\n",
    "            action = env.action_space.sample()\n",
    "        \n",
    "        next_state, reward, done, _ = env.step(action)\n",
    "        replay_buffer.push(state, action, reward, next_state, done)\n",
    "        state = next_state\n",
    "        episode_reward += reward\n",
    "        \n",
    "        train()\n",
    "        \n",
    "        if frame_idx % 100 == 0:\n",
    "            target_dqn.load_state_dict(dqn.state_dict())\n",
    "        \n",
    "        render(env, screen)\n",
    "        for event in pygame.event.get():\n",
    "            if event.type == pygame.QUIT:\n",
    "                pygame.quit()\n",
    "                quit()\n",
    "        \n",
    "        if done:\n",
    "            break\n",
    "    \n",
    "    all_rewards.append(episode_reward)\n",
    "    if episode % 10 == 0:\n",
    "        print('Episode: {}, Reward: {}'.format(episode, episode_reward))"
   ]
  },
  {
   "cell_type": "code",
   "execution_count": 12,
   "id": "d8b7aa2ce990907a",
   "metadata": {
    "ExecuteTime": {
     "end_time": "2024-06-08T12:02:44.498622300Z",
     "start_time": "2024-06-08T12:02:44.468912500Z"
    }
   },
   "outputs": [],
   "source": [
    "torch.save(dqn.state_dict(), 'dqn_model.pth')"
   ]
  },
  {
   "cell_type": "code",
   "execution_count": 13,
   "id": "f627cd58017dd40a",
   "metadata": {
    "ExecuteTime": {
     "end_time": "2024-06-08T12:05:42.396612Z",
     "start_time": "2024-06-08T12:05:42.296230300Z"
    }
   },
   "outputs": [
    {
     "data": {
      "text/plain": [
       "<All keys matched successfully>"
      ]
     },
     "execution_count": 13,
     "metadata": {},
     "output_type": "execute_result"
    }
   ],
   "source": [
    "# 加载模型权重\n",
    "model_path = 'dqn_model.pth'\n",
    "dqn = DQN(state_dim=2, action_dim=3)  # MountainCar-v0的状态空间维度为2，动作空间维度为3\n",
    "dqn.load_state_dict(torch.load(model_path))"
   ]
  },
  {
   "cell_type": "code",
   "execution_count": 14,
   "id": "51db810413c48ea5",
   "metadata": {
    "ExecuteTime": {
     "end_time": "2024-06-08T12:06:27.495153Z",
     "start_time": "2024-06-08T12:06:27.471957600Z"
    }
   },
   "outputs": [],
   "source": [
    "# 测试模型\n",
    "def test_model(env, model, episodes=10):\n",
    "    for episode in range(episodes):\n",
    "        state = env.reset()\n",
    "        episode_reward = 0\n",
    "        \n",
    "        while True:\n",
    "            state_tensor = torch.FloatTensor(state).unsqueeze(0)\n",
    "            q_value = model(state_tensor)\n",
    "            action = q_value.max(1)[1].item()\n",
    "            \n",
    "            next_state, reward, done, _ = env.step(action)\n",
    "            state = next_state\n",
    "            episode_reward += reward\n",
    "            \n",
    "            render(env, screen)\n",
    "            for event in pygame.event.get():\n",
    "                if event.type == pygame.QUIT:\n",
    "                    pygame.quit()\n",
    "                    quit()\n",
    "            \n",
    "            if done:\n",
    "                print('Episode: {}, Reward: {}'.format(episode, episode_reward))\n",
    "                break\n"
   ]
  },
  {
   "cell_type": "code",
   "execution_count": 15,
   "id": "d2c9a0cb8cdce788",
   "metadata": {
    "ExecuteTime": {
     "end_time": "2024-06-08T12:07:22.482958900Z",
     "start_time": "2024-06-08T12:07:18.331517Z"
    }
   },
   "outputs": [
    {
     "name": "stderr",
     "output_type": "stream",
     "text": [
      "D:\\anacondadata\\envs\\RL\\lib\\site-packages\\gym\\core.py:318: DeprecationWarning: \u001b[33mWARN: Initializing wrapper in old step API which returns one bool instead of two. It is recommended to set `new_step_api=True` to use new step API. This will be the default behaviour in future.\u001b[0m\n",
      "  \"Initializing wrapper in old step API which returns one bool instead of two. It is recommended to set `new_step_api=True` to use new step API. This will be the default behaviour in future.\"\n",
      "D:\\anacondadata\\envs\\RL\\lib\\site-packages\\gym\\wrappers\\step_api_compatibility.py:40: DeprecationWarning: \u001b[33mWARN: Initializing environment in old step API which returns one bool instead of two. It is recommended to set `new_step_api=True` to use new step API. This will be the default behaviour in future.\u001b[0m\n",
      "  \"Initializing environment in old step API which returns one bool instead of two. It is recommended to set `new_step_api=True` to use new step API. This will be the default behaviour in future.\"\n",
      "D:\\anacondadata\\envs\\RL\\lib\\site-packages\\gym\\core.py:44: DeprecationWarning: \u001b[33mWARN: The argument mode in render method is deprecated; use render_mode during environment initialization instead.\n",
      "See here for more information: https://www.gymlibrary.ml/content/api/\u001b[0m\n",
      "  \"The argument mode in render method is deprecated; \"\n"
     ]
    },
    {
     "name": "stdout",
     "output_type": "stream",
     "text": [
      "Episode: 0, Reward: -103.0\n",
      "Episode: 1, Reward: -104.0\n",
      "Episode: 2, Reward: -105.0\n",
      "Episode: 3, Reward: -103.0\n",
      "Episode: 4, Reward: -103.0\n",
      "Episode: 5, Reward: -85.0\n",
      "Episode: 6, Reward: -97.0\n",
      "Episode: 7, Reward: -103.0\n",
      "Episode: 8, Reward: -104.0\n",
      "Episode: 9, Reward: -95.0\n"
     ]
    }
   ],
   "source": [
    "# Pygame初始化\n",
    "pygame.init()\n",
    "screen = pygame.display.set_mode((600, 400))\n",
    "pygame.display.set_caption(\"Mountain Car\")\n",
    "\n",
    "# 环境初始化\n",
    "env = gym.make('MountainCar-v0')\n",
    "\n",
    "# 测试模型\n",
    "test_model(env, dqn, episodes=10)\n",
    "\n",
    "env.close()\n",
    "pygame.quit()"
   ]
  },
  {
   "cell_type": "code",
   "execution_count": null,
   "id": "9e8e0a2b60c6e665",
   "metadata": {},
   "outputs": [],
   "source": []
  }
 ],
 "metadata": {
  "kernelspec": {
   "display_name": "Python 3",
   "language": "python",
   "name": "python3"
  },
  "language_info": {
   "codemirror_mode": {
    "name": "ipython",
    "version": 3
   },
   "file_extension": ".py",
   "mimetype": "text/x-python",
   "name": "python",
   "nbconvert_exporter": "python",
   "pygments_lexer": "ipython3",
   "version": "3.6.15"
  }
 },
 "nbformat": 4,
 "nbformat_minor": 5
}
